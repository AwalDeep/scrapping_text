{
 "cells": [
  {
   "cell_type": "code",
   "execution_count": 1,
   "metadata": {},
   "outputs": [
    {
     "name": "stdout",
     "output_type": "stream",
     "text": [
      "D:\\InkTop\n"
     ]
    }
   ],
   "source": [
    "cd D:\\InkTop"
   ]
  },
  {
   "cell_type": "markdown",
   "metadata": {},
   "source": [
    "# Import libraries"
   ]
  },
  {
   "cell_type": "code",
   "execution_count": 2,
   "metadata": {},
   "outputs": [],
   "source": [
    "import matplotlib.pyplot as plt\n",
    "%matplotlib inline\n",
    "import cv2\n",
    "import numpy as np\n",
    "from PIL import Image\n",
    "import os\n",
    "import shutil\n",
    "import pandas as pd\n",
    "import pytesseract"
   ]
  },
  {
   "cell_type": "code",
   "execution_count": 69,
   "metadata": {},
   "outputs": [],
   "source": [
    "def crop(img,newspaper,front_page=False):\n",
    "    '''img is image read with imread'''\n",
    "    if newspaper=='TOI':\n",
    "        if front_page:\n",
    "            image=img[330:-20,10:,:]\n",
    "        else:\n",
    "            image=img[120:-20,10:,:]\n",
    "    elif newspaper=='HT':\n",
    "        image=img[200:-20,10:,:]\n",
    "    elif newspaper=='TRIB':\n",
    "        image=img[230:-20,10:,:]\n",
    "    return image    \n",
    "\n",
    "def show(image):\n",
    "    cv2.namedWindow('win',cv2.WINDOW_NORMAL)\n",
    "    cv2.imshow('win',image)\n",
    "    cv2.waitKey(0)\n",
    "    cv2.destroyAllWindows()\n",
    "\n",
    "def erosion(image_binary):\n",
    "    if newspaper=='TOI':\n",
    "        kernel = np.ones((11,11), np.uint8)\n",
    "    elif newspaper=='HT':\n",
    "        kernel=np.ones((9,9), np.uint8)\n",
    "    elif newspaper=='TRIB':\n",
    "        kernel=np.ones((9,9), np.uint8)\n",
    "    erode=cv2.erode(image_binary,kernel)\n",
    "    return erode"
   ]
  },
  {
   "cell_type": "code",
   "execution_count": 70,
   "metadata": {},
   "outputs": [],
   "source": [
    "# parameters\n",
    "newspapers=['TOI','HT','TRIB']\n",
    "newspaper=newspapers[0]\n",
    "image_name='TOIDEL_2018_11_04_Page_87.png'\n",
    "cols=10"
   ]
  },
  {
   "cell_type": "code",
   "execution_count": 71,
   "metadata": {},
   "outputs": [],
   "source": [
    "ii = cv2.imread(image_name)\n",
    "# cropping image accordingly\n",
    "image=crop(ii,newspaper,False)    \n",
    "# convert the image to grayscale\n",
    "gray = cv2.cvtColor(image, cv2.COLOR_BGR2GRAY)\n",
    "(thresh, image_binary) = cv2.threshold(gray, 150, 255, cv2.THRESH_BINARY | cv2.THRESH_OTSU)\n",
    "show(image)"
   ]
  },
  {
   "cell_type": "code",
   "execution_count": 72,
   "metadata": {},
   "outputs": [],
   "source": [
    "erode=erosion(image_binary)\n",
    "show(erode)"
   ]
  },
  {
   "cell_type": "code",
   "execution_count": 73,
   "metadata": {},
   "outputs": [],
   "source": [
    "im2, contours, hierarchy = cv2.findContours(erode,cv2.RETR_TREE,cv2.CHAIN_APPROX_SIMPLE)"
   ]
  },
  {
   "cell_type": "code",
   "execution_count": 74,
   "metadata": {},
   "outputs": [
    {
     "data": {
      "text/plain": [
       "True"
      ]
     },
     "execution_count": 74,
     "metadata": {},
     "output_type": "execute_result"
    }
   ],
   "source": [
    "cv2.imwrite('eroded.png',erode)"
   ]
  },
  {
   "cell_type": "code",
   "execution_count": 75,
   "metadata": {},
   "outputs": [],
   "source": [
    "mask=list(hierarchy[0][:,-1]<=0)  #-1\n",
    "ids=np.arange(len(hierarchy[0]))\n",
    "id=ids[mask]\n",
    "new_cnts=[contours[i] for i in id]"
   ]
  },
  {
   "cell_type": "code",
   "execution_count": 76,
   "metadata": {},
   "outputs": [],
   "source": [
    "#set([cv2.contourArea(i) for i in new_cnts])"
   ]
  },
  {
   "cell_type": "code",
   "execution_count": 104,
   "metadata": {},
   "outputs": [
    {
     "data": {
      "text/plain": [
       "{180.0,\n",
       " 256.5,\n",
       " 787.0,\n",
       " 918.5,\n",
       " 3235.0,\n",
       " 3633.5,\n",
       " 3645.5,\n",
       " 4097.0,\n",
       " 9779.5,\n",
       " 14077.0,\n",
       " 14134.0,\n",
       " 14321.0,\n",
       " 14322.5,\n",
       " 14324.0,\n",
       " 14376.5,\n",
       " 14379.0,\n",
       " 14380.5,\n",
       " 14382.0,\n",
       " 14712.0,\n",
       " 16879.0,\n",
       " 17039.0,\n",
       " 17648.0,\n",
       " 18359.5,\n",
       " 18609.5,\n",
       " 18658.5,\n",
       " 18839.0,\n",
       " 19439.5,\n",
       " 19542.5,\n",
       " 19618.5,\n",
       " 19678.0,\n",
       " 19690.5,\n",
       " 19717.0,\n",
       " 19790.0,\n",
       " 19903.0,\n",
       " 19986.0,\n",
       " 20027.5,\n",
       " 20174.0,\n",
       " 20228.0,\n",
       " 20234.0,\n",
       " 20235.5,\n",
       " 20259.0,\n",
       " 20341.0,\n",
       " 20504.5,\n",
       " 20591.0,\n",
       " 20706.5,\n",
       " 20735.5,\n",
       " 20745.5,\n",
       " 20759.0,\n",
       " 20787.5,\n",
       " 20801.0,\n",
       " 20820.5,\n",
       " 20869.5,\n",
       " 20895.5,\n",
       " 20916.0,\n",
       " 20919.0,\n",
       " 20924.0,\n",
       " 20941.0,\n",
       " 20954.5,\n",
       " 20968.5,\n",
       " 20998.5,\n",
       " 20999.0,\n",
       " 21000.5,\n",
       " 21031.5,\n",
       " 21047.0,\n",
       " 21053.5,\n",
       " 21063.5,\n",
       " 21071.5,\n",
       " 21086.0,\n",
       " 21104.0,\n",
       " 21154.5,\n",
       " 21155.0,\n",
       " 21163.0,\n",
       " 21171.0,\n",
       " 21184.0,\n",
       " 21191.5,\n",
       " 21208.0,\n",
       " 21214.0,\n",
       " 21214.5,\n",
       " 21217.0,\n",
       " 21227.5,\n",
       " 21251.0,\n",
       " 21253.0,\n",
       " 21271.5,\n",
       " 21277.5,\n",
       " 21281.5,\n",
       " 21287.0,\n",
       " 21318.5,\n",
       " 21331.5,\n",
       " 21332.5,\n",
       " 21348.0,\n",
       " 21355.5,\n",
       " 21383.5,\n",
       " 21385.5,\n",
       " 21393.0,\n",
       " 21401.0,\n",
       " 21407.5,\n",
       " 21425.0,\n",
       " 21431.5,\n",
       " 21432.5,\n",
       " 21438.0,\n",
       " 21439.5,\n",
       " 21442.5,\n",
       " 21445.5,\n",
       " 21446.0,\n",
       " 21452.0,\n",
       " 21456.5,\n",
       " 21461.5,\n",
       " 21463.5,\n",
       " 21471.5,\n",
       " 21478.5,\n",
       " 21489.5,\n",
       " 21497.0,\n",
       " 21503.5,\n",
       " 21508.0,\n",
       " 21508.5,\n",
       " 21513.5,\n",
       " 21525.0,\n",
       " 21526.5,\n",
       " 21531.5,\n",
       " 21551.0,\n",
       " 21551.5,\n",
       " 21556.5,\n",
       " 21558.0,\n",
       " 21575.0,\n",
       " 21597.5,\n",
       " 21599.0,\n",
       " 21604.0,\n",
       " 21608.0,\n",
       " 21608.5,\n",
       " 21617.0,\n",
       " 21617.5,\n",
       " 21628.5,\n",
       " 21635.0,\n",
       " 21636.5,\n",
       " 21640.5,\n",
       " 21647.0,\n",
       " 21659.0,\n",
       " 21659.5,\n",
       " 21667.5,\n",
       " 21672.0,\n",
       " 21675.0,\n",
       " 21694.0,\n",
       " 21696.0,\n",
       " 21700.0,\n",
       " 21725.5,\n",
       " 21726.0,\n",
       " 21734.5,\n",
       " 21739.0,\n",
       " 21743.0,\n",
       " 21747.0,\n",
       " 21754.5,\n",
       " 21757.0,\n",
       " 21765.0,\n",
       " 21767.0,\n",
       " 21768.0,\n",
       " 21774.5,\n",
       " 21775.0,\n",
       " 21777.5,\n",
       " 21781.0,\n",
       " 21783.0,\n",
       " 21786.0,\n",
       " 21826.0,\n",
       " 21827.5,\n",
       " 21840.0,\n",
       " 21853.5,\n",
       " 21909.5,\n",
       " 21965.5,\n",
       " 21983.5,\n",
       " 21998.5,\n",
       " 22026.5,\n",
       " 22113.5,\n",
       " 22414.5,\n",
       " 22541.5,\n",
       " 22833.0,\n",
       " 22874.0,\n",
       " 22906.0,\n",
       " 22937.5,\n",
       " 23164.0,\n",
       " 23164.5,\n",
       " 23240.0,\n",
       " 23288.0,\n",
       " 23348.5,\n",
       " 23361.5,\n",
       " 23465.5,\n",
       " 23477.5,\n",
       " 23573.5,\n",
       " 23639.0,\n",
       " 23715.0,\n",
       " 23717.0,\n",
       " 23738.0,\n",
       " 23879.5,\n",
       " 23928.0,\n",
       " 24027.0,\n",
       " 24029.5,\n",
       " 24052.0,\n",
       " 24060.5,\n",
       " 24070.5,\n",
       " 24133.5,\n",
       " 24137.5,\n",
       " 24158.5,\n",
       " 24196.5,\n",
       " 24219.5,\n",
       " 24227.0,\n",
       " 24241.5,\n",
       " 24297.5,\n",
       " 24367.5,\n",
       " 24447.5,\n",
       " 24454.0,\n",
       " 24465.5,\n",
       " 24496.5,\n",
       " 24501.5,\n",
       " 24530.5,\n",
       " 24556.0,\n",
       " 24562.5,\n",
       " 24564.0,\n",
       " 24578.5,\n",
       " 24607.0,\n",
       " 24609.0,\n",
       " 24618.0,\n",
       " 24621.0,\n",
       " 24644.5,\n",
       " 24653.0,\n",
       " 24658.0,\n",
       " 24712.5,\n",
       " 24756.5,\n",
       " 24782.0,\n",
       " 24805.5,\n",
       " 24814.0,\n",
       " 24831.5,\n",
       " 24838.5,\n",
       " 24911.0,\n",
       " 24933.0,\n",
       " 24953.5,\n",
       " 24957.5,\n",
       " 24978.0,\n",
       " 25042.5,\n",
       " 25107.5,\n",
       " 25115.0,\n",
       " 25121.5,\n",
       " 25238.5,\n",
       " 25313.5,\n",
       " 25405.0,\n",
       " 25456.0,\n",
       " 25507.5,\n",
       " 25846.5,\n",
       " 27473.0,\n",
       " 28002.0,\n",
       " 28270.0,\n",
       " 28513.5,\n",
       " 28720.5,\n",
       " 28729.5,\n",
       " 28958.5,\n",
       " 28996.5,\n",
       " 29169.0,\n",
       " 29182.0,\n",
       " 29186.0,\n",
       " 29205.0,\n",
       " 29430.5,\n",
       " 29465.0,\n",
       " 29500.5,\n",
       " 29583.5,\n",
       " 29646.0,\n",
       " 29706.0,\n",
       " 29808.5,\n",
       " 31946.5,\n",
       " 32806.5,\n",
       " 32962.5,\n",
       " 33061.0,\n",
       " 33254.5,\n",
       " 33286.5,\n",
       " 33377.0,\n",
       " 33498.0,\n",
       " 33684.0,\n",
       " 33869.5,\n",
       " 34379.0,\n",
       " 36014.5,\n",
       " 36666.0,\n",
       " 37476.0,\n",
       " 41197.5,\n",
       " 47593.5,\n",
       " 47800.5,\n",
       " 48691.5,\n",
       " 58332.5,\n",
       " 98730.0,\n",
       " 99794.5,\n",
       " 100190.0,\n",
       " 100280.0,\n",
       " 100436.5,\n",
       " 100686.0,\n",
       " 101341.0,\n",
       " 101498.0,\n",
       " 103315.0,\n",
       " 115281.0,\n",
       " 190113.5,\n",
       " 282798.0,\n",
       " 283358.0,\n",
       " 10682672.0}"
      ]
     },
     "execution_count": 104,
     "metadata": {},
     "output_type": "execute_result"
    }
   ],
   "source": [
    "carea=[cv2.contourArea(i) for i in new_cnts]\n",
    "set(carea)"
   ]
  },
  {
   "cell_type": "code",
   "execution_count": 103,
   "metadata": {},
   "outputs": [],
   "source": [
    "# depending upon newspaper\n",
    "if newspaper=='TOI':\n",
    "    cnts_temp=[i for i in new_cnts if cv2.contourArea(i)>= 10000.0 and cv2.contourArea(i)<=50000.0]\n",
    "elif newspaper=='HT':\n",
    "    cnts_temp=[i for i in new_cnts if cv2.contourArea(i)>= 400.0 and cv2.contourArea(i)<=40000.0]\n",
    "elif newspaper=='TRIB':\n",
    "    cnts_temp=[i for i in new_cnts if cv2.contourArea(i)>= 18000.0 and cv2.contourArea(i)<=90000.0]    "
   ]
  },
  {
   "cell_type": "code",
   "execution_count": 105,
   "metadata": {},
   "outputs": [],
   "source": [
    "def x_coord(cont):\n",
    "    M=cv2.moments(cont)\n",
    "    return (int(M['m10']/M['m00']))\n",
    "\n",
    "def y_coord(cont):\n",
    "    M=cv2.moments(cont)\n",
    "    return (int(M['m01']/M['m00']))\n",
    "\n",
    "def check(cont):\n",
    "    return (cv2.boundingRect(cont)[0])"
   ]
  },
  {
   "cell_type": "code",
   "execution_count": 106,
   "metadata": {},
   "outputs": [],
   "source": [
    "xlist=np.linspace(0,image.shape[1],cols+1)"
   ]
  },
  {
   "cell_type": "code",
   "execution_count": 107,
   "metadata": {},
   "outputs": [],
   "source": [
    "#np.argmax(np.logical_xor((check(i)>xlist)[:-1] , check(i)>xlist[1:]))"
   ]
  },
  {
   "cell_type": "code",
   "execution_count": 108,
   "metadata": {},
   "outputs": [],
   "source": [
    "x_dict={}\n",
    "\n",
    "for i in range(cols):\n",
    "    x_dict[i]=[]\n",
    "\n",
    "for i in cnts_temp:\n",
    "    val=np.argmax(np.logical_xor((check(i)>xlist)[:-1] , check(i)>xlist[1:]))\n",
    "    x_dict[val].append(i)\n",
    "    \n",
    "for i in x_dict.keys():\n",
    "    x_dict[i]=sorted(x_dict[i],key=y_coord,reverse=False)"
   ]
  },
  {
   "cell_type": "code",
   "execution_count": 109,
   "metadata": {},
   "outputs": [],
   "source": [
    "# delete crops folder\n",
    "shutil.rmtree('./crops/')\n",
    "#create empty crops folder\n",
    "os.makedirs('./crops', exist_ok=True)"
   ]
  },
  {
   "cell_type": "code",
   "execution_count": 110,
   "metadata": {},
   "outputs": [
    {
     "data": {
      "text/plain": [
       "True"
      ]
     },
     "execution_count": 110,
     "metadata": {},
     "output_type": "execute_result"
    }
   ],
   "source": [
    "samp=image.copy()\n",
    "counter=0\n",
    "for k in range(cols):\n",
    "    for sr,i in enumerate(x_dict[k]):\n",
    "        x,y,w,h=cv2.boundingRect(i)\n",
    "        cv2.imwrite('crops/'+str(k)+'_'+str(sr)+'_'+str(counter)+'_section.png',image[y:y+h,x:x+w])\n",
    "        cv2.rectangle(samp,(x,y),(x+w,y+h),(0,0,255),2)\n",
    "        cv2.putText(samp,str(cv2.contourArea(i)),(x_coord(i),y_coord(i)),cv2.FONT_HERSHEY_DUPLEX,0.5,(255,0,0))\n",
    "        counter +=1\n",
    "cv2.imwrite('samp.png',samp)"
   ]
  },
  {
   "cell_type": "code",
   "execution_count": 102,
   "metadata": {},
   "outputs": [],
   "source": [
    "# sort image names\n",
    "img_loc=os.listdir('crops/')\n",
    "img_loc.sort(key=lambda x : int(x.split('_')[2])  )\n"
   ]
  },
  {
   "cell_type": "code",
   "execution_count": null,
   "metadata": {},
   "outputs": [],
   "source": []
  },
  {
   "cell_type": "code",
   "execution_count": null,
   "metadata": {},
   "outputs": [],
   "source": []
  },
  {
   "cell_type": "code",
   "execution_count": null,
   "metadata": {},
   "outputs": [],
   "source": []
  },
  {
   "cell_type": "code",
   "execution_count": null,
   "metadata": {},
   "outputs": [],
   "source": []
  },
  {
   "cell_type": "code",
   "execution_count": null,
   "metadata": {},
   "outputs": [],
   "source": []
  },
  {
   "cell_type": "code",
   "execution_count": null,
   "metadata": {},
   "outputs": [],
   "source": []
  },
  {
   "cell_type": "code",
   "execution_count": null,
   "metadata": {},
   "outputs": [],
   "source": []
  },
  {
   "cell_type": "markdown",
   "metadata": {},
   "source": [
    "# saving content and writing to csv"
   ]
  },
  {
   "cell_type": "code",
   "execution_count": 64,
   "metadata": {},
   "outputs": [],
   "source": [
    "heading=''\n",
    "sub_heading=''\n",
    "data=[]\n",
    "for i in img_loc:\n",
    "    img=cv2.imread('crops/'+i)\n",
    "    text=pytesseract.pytesseract.image_to_string(img,lang='eng')\n",
    "    if img.shape[0] <=60:\n",
    "        if np.mean(img) < 200.0:\n",
    "            heading=text\n",
    "        else:\n",
    "            sub_heading=text\n",
    "        continue\n",
    "    data_list=[str(heading),str(sub_heading),str(i.split('_')[1]),str(i.split('_')[0]),str(text)]\n",
    "    data.append(data_list)\n",
    "    #data.append(pd.DataFrame([str(heading),str(sub_heading),str(i.split('_')[1]),str(i.split('_')[0]),str(text)]))\n",
    "    \n",
    "    #print(data,'\\n\\n\\n\\n')"
   ]
  },
  {
   "cell_type": "code",
   "execution_count": 65,
   "metadata": {},
   "outputs": [],
   "source": [
    "df=pd.DataFrame(columns=['Heading','Sub-Heading','Row','Col','Text_Extracted'],data=data)"
   ]
  },
  {
   "cell_type": "code",
   "execution_count": 66,
   "metadata": {},
   "outputs": [],
   "source": [
    "df.replace('\\n','',inplace=True,regex=True)"
   ]
  },
  {
   "cell_type": "code",
   "execution_count": 67,
   "metadata": {},
   "outputs": [],
   "source": [
    "df.to_csv('output_'+image_name.split('.')[0]+'.csv', sep=',', encoding='utf-8')"
   ]
  },
  {
   "cell_type": "code",
   "execution_count": null,
   "metadata": {},
   "outputs": [],
   "source": []
  },
  {
   "cell_type": "code",
   "execution_count": 86,
   "metadata": {},
   "outputs": [
    {
     "data": {
      "text/plain": [
       "'D:\\\\InkTop'"
      ]
     },
     "execution_count": 86,
     "metadata": {},
     "output_type": "execute_result"
    }
   ],
   "source": []
  },
  {
   "cell_type": "code",
   "execution_count": 89,
   "metadata": {},
   "outputs": [],
   "source": []
  },
  {
   "cell_type": "code",
   "execution_count": 93,
   "metadata": {},
   "outputs": [],
   "source": []
  },
  {
   "cell_type": "code",
   "execution_count": null,
   "metadata": {},
   "outputs": [],
   "source": []
  }
 ],
 "metadata": {
  "kernelspec": {
   "display_name": "Python 3",
   "language": "python",
   "name": "python3"
  },
  "language_info": {
   "codemirror_mode": {
    "name": "ipython",
    "version": 3
   },
   "file_extension": ".py",
   "mimetype": "text/x-python",
   "name": "python",
   "nbconvert_exporter": "python",
   "pygments_lexer": "ipython3",
   "version": "3.6.5"
  }
 },
 "nbformat": 4,
 "nbformat_minor": 2
}
